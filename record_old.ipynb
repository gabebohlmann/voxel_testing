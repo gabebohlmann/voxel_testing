{
 "cells": [
  {
   "cell_type": "markdown",
   "metadata": {},
   "source": [
    "# Audio Testing"
   ]
  },
  {
   "cell_type": "code",
   "execution_count": 1,
   "metadata": {},
   "outputs": [
    {
     "name": "stdout",
     "output_type": "stream",
     "text": [
      "File duration =  101.976\n",
      "/storage/emulated/0/Download/chimes.wav\n"
     ]
    },
    {
     "data": {
      "text/plain": [
       "(array([[0., 0.],\n",
       "        [0., 0.],\n",
       "        [0., 0.],\n",
       "        ...,\n",
       "        [0., 0.],\n",
       "        [0., 0.],\n",
       "        [0., 0.]]),\n",
       " 101.976)"
      ]
     },
     "execution_count": 1,
     "metadata": {},
     "output_type": "execute_result"
    }
   ],
   "source": [
    "import subprocess\n",
    "import soundfile as sf\n",
    "import librosa\n",
    "import os\n",
    "\n",
    "def play_android(wav_file_path, fs_rec):\n",
    "    # Read the audio file\n",
    "    data, fs_org = sf.read(wav_file_path)\n",
    "    duration = librosa.get_duration(path=wav_file_path)  # Use filename= for clarity\n",
    "    print('File duration = ', duration)\n",
    "\n",
    "    # Use os.path to handle file paths for cross-platform compatibility\n",
    "    device_file_path = \"/storage/emulated/0/Download/\" + os.path.basename(wav_file_path)\n",
    "    print(device_file_path)\n",
    "\n",
    "    # Push the file to the Android device\n",
    "    # Add shell=True for Windows compatibility if adb is in PATH\n",
    "    subprocess.run([\"adb\", \"push\", wav_file_path, device_file_path], shell=True)\n",
    "\n",
    "    # Play the file on the Android device\n",
    "    subprocess.run([\n",
    "        \"adb\", \"shell\", \"am\", \"start\", \"-a\", \"android.intent.action.VIEW\",\n",
    "        \"-d\", f\"file://{device_file_path}\", \"-t\", \"audio/*\"\n",
    "    ], shell=True, check=True)\n",
    "    \n",
    "    # Uncomment to delete the file from the Android device after playback\n",
    "    # subprocess.run([\"adb\", \"shell\", \"rm\", device_file_path], shell=True)\n",
    "\n",
    "    return data, duration\n",
    "\n",
    "wav_path = \"chimes.wav\"\n",
    "fs_rec = 16000\n",
    "play_android(wav_path, fs_rec)"
   ]
  },
  {
   "cell_type": "markdown",
   "metadata": {},
   "source": [
    "# Swept Sine Output"
   ]
  },
  {
   "cell_type": "code",
   "execution_count": 7,
   "metadata": {},
   "outputs": [
    {
     "name": "stdout",
     "output_type": "stream",
     "text": [
      "[1.         0.98766862 0.95090066 ... 0.97210459 0.98760938 0.99690744]\n",
      "File saved as chirp_100_7800_3s_8000.wav\n",
      "Transferring chirp_100_7800_3s_8000.wav to Android device...\n",
      "Playing chirp_100_7800_3s_8000.wav on Android device...\n"
     ]
    }
   ],
   "source": [
    "import numpy as np\n",
    "from scipy.signal import chirp\n",
    "import subprocess\n",
    "import sounddevice as sd\n",
    "import soundfile as sf\n",
    "import os\n",
    "\n",
    "def swept_sin(save, fs_org, fs_rec):\n",
    "    T = 3\n",
    "    # fs_org = 8000\n",
    "    t = np.arange(0, int(T * fs_org)) / fs_org\n",
    "    f0 = 7800\n",
    "    f1 = 100\n",
    "\n",
    "    w = chirp(t, f0=f0, f1=f1, t1=T, method='linear')\n",
    "    print(w)\n",
    "    file_name = 'chirp_{}_{}_{}s_{}.wav'.format(f1, f0, T, fs_org)\n",
    "    # Save the chirp signal to a WAV file\n",
    "    if save:\n",
    "        sf.write(file_name, w, fs_org)\n",
    "        print(f\"File saved as {file_name}\")\n",
    "        \n",
    "        # Transfer the file to the Android device\n",
    "        adb_push_command = f\"adb push {file_name} /sdcard/\"\n",
    "        print(f\"Transferring {file_name} to Android device...\")\n",
    "        os.system(adb_push_command)\n",
    "        \n",
    "        # Play the WAV file on the Android device\n",
    "        adb_play_command = f\"adb shell am start -a android.intent.action.VIEW -d file:///sdcard/{file_name} -t audio/wav\"\n",
    "        print(f\"Playing {file_name} on Android device...\")\n",
    "        os.system(adb_play_command)\n",
    "\n",
    "# Example usage\n",
    "fs_org = 8000\n",
    "fs_rec = 8000\n",
    "swept_sin(save=True, fs_org=8000, fs_rec=8000)"
   ]
  },
  {
   "cell_type": "code",
   "execution_count": 6,
   "metadata": {},
   "outputs": [
    {
     "name": "stdout",
     "output_type": "stream",
     "text": [
      "[ 1.          0.99999999  0.99999986 ... -0.99146299 -0.99622537\n",
      " -0.99906154]\n",
      "File saved as chirp_55_8000_3s_8000.wav\n",
      "Transferring chirp_55_8000_3s_8000.wav to Android device...\n",
      "Playing chirp_55_8000_3s_8000.wav on Android device...\n"
     ]
    },
    {
     "ename": "PortAudioError",
     "evalue": "Error opening InputStream: Invalid number of channels [PaErrorCode -9998]",
     "output_type": "error",
     "traceback": [
      "\u001b[1;31m---------------------------------------------------------------------------\u001b[0m",
      "\u001b[1;31mPortAudioError\u001b[0m                            Traceback (most recent call last)",
      "Cell \u001b[1;32mIn[6], line 46\u001b[0m\n\u001b[0;32m     42\u001b[0m         \u001b[38;5;28mprint\u001b[39m(\u001b[38;5;124mf\u001b[39m\u001b[38;5;124m\"\u001b[39m\u001b[38;5;124mRecording saved to \u001b[39m\u001b[38;5;132;01m{\u001b[39;00mfilename\u001b[38;5;132;01m}\u001b[39;00m\u001b[38;5;124m\"\u001b[39m)\n\u001b[0;32m     45\u001b[0m fs_org \u001b[38;5;241m=\u001b[39m \u001b[38;5;241m8000\u001b[39m\n\u001b[1;32m---> 46\u001b[0m \u001b[43mswept_sin\u001b[49m\u001b[43m(\u001b[49m\u001b[43msave\u001b[49m\u001b[38;5;241;43m=\u001b[39;49m\u001b[38;5;28;43;01mTrue\u001b[39;49;00m\u001b[43m,\u001b[49m\u001b[43m \u001b[49m\u001b[43mfs_org\u001b[49m\u001b[38;5;241;43m=\u001b[39;49m\u001b[43mfs_org\u001b[49m\u001b[43m,\u001b[49m\u001b[43m \u001b[49m\u001b[43mi\u001b[49m\u001b[38;5;241;43m=\u001b[39;49m\u001b[38;5;241;43m1\u001b[39;49m\u001b[43m)\u001b[49m\n",
      "Cell \u001b[1;32mIn[6], line 38\u001b[0m, in \u001b[0;36mswept_sin\u001b[1;34m(save, fs_org, i)\u001b[0m\n\u001b[0;32m     36\u001b[0m os\u001b[38;5;241m.\u001b[39msystem(adb_play_command)\n\u001b[0;32m     37\u001b[0m \u001b[38;5;66;03m# seconds = 3  # Duration of recording\u001b[39;00m\n\u001b[1;32m---> 38\u001b[0m myrecording \u001b[38;5;241m=\u001b[39m \u001b[43msd\u001b[49m\u001b[38;5;241;43m.\u001b[39;49m\u001b[43mrec\u001b[49m\u001b[43m(\u001b[49m\u001b[38;5;28;43mint\u001b[39;49m\u001b[43m(\u001b[49m\u001b[43mT\u001b[49m\u001b[43m \u001b[49m\u001b[38;5;241;43m*\u001b[39;49m\u001b[43m \u001b[49m\u001b[43mfs_org\u001b[49m\u001b[43m)\u001b[49m\u001b[43m,\u001b[49m\u001b[43m \u001b[49m\u001b[43msamplerate\u001b[49m\u001b[38;5;241;43m=\u001b[39;49m\u001b[43mfs_org\u001b[49m\u001b[43m,\u001b[49m\u001b[43m \u001b[49m\u001b[43mchannels\u001b[49m\u001b[38;5;241;43m=\u001b[39;49m\u001b[38;5;241;43m3\u001b[39;49m\u001b[43m,\u001b[49m\u001b[43m \u001b[49m\u001b[43mdevice\u001b[49m\u001b[38;5;241;43m=\u001b[39;49m\u001b[43mi\u001b[49m\u001b[43m)\u001b[49m\n\u001b[0;32m     39\u001b[0m sd\u001b[38;5;241m.\u001b[39mwait()  \u001b[38;5;66;03m# Wait until recording is finished\u001b[39;00m\n\u001b[0;32m     40\u001b[0m filename \u001b[38;5;241m=\u001b[39m \u001b[38;5;124mf\u001b[39m\u001b[38;5;124m'\u001b[39m\u001b[38;5;124mrecording\u001b[39m\u001b[38;5;132;01m{\u001b[39;00mi\u001b[38;5;132;01m}\u001b[39;00m\u001b[38;5;124m.wav\u001b[39m\u001b[38;5;124m'\u001b[39m\n",
      "File \u001b[1;32mc:\\Users\\gabeb\\OneDrive - UW-Madison\\Work\\audio_recorder\\venv\\lib\\site-packages\\sounddevice.py:276\u001b[0m, in \u001b[0;36mrec\u001b[1;34m(frames, samplerate, channels, dtype, out, mapping, blocking, **kwargs)\u001b[0m\n\u001b[0;32m    273\u001b[0m     ctx\u001b[38;5;241m.\u001b[39mread_indata(indata)\n\u001b[0;32m    274\u001b[0m     ctx\u001b[38;5;241m.\u001b[39mcallback_exit()\n\u001b[1;32m--> 276\u001b[0m ctx\u001b[38;5;241m.\u001b[39mstart_stream(InputStream, samplerate, ctx\u001b[38;5;241m.\u001b[39minput_channels,\n\u001b[0;32m    277\u001b[0m                  ctx\u001b[38;5;241m.\u001b[39minput_dtype, callback, blocking, \u001b[38;5;241m*\u001b[39m\u001b[38;5;241m*\u001b[39mkwargs)\n\u001b[0;32m    278\u001b[0m \u001b[38;5;28;01mreturn\u001b[39;00m out\n",
      "File \u001b[1;32mc:\\Users\\gabeb\\OneDrive - UW-Madison\\Work\\audio_recorder\\venv\\lib\\site-packages\\sounddevice.py:2582\u001b[0m, in \u001b[0;36m_CallbackContext.start_stream\u001b[1;34m(self, StreamClass, samplerate, channels, dtype, callback, blocking, **kwargs)\u001b[0m\n\u001b[0;32m   2579\u001b[0m \u001b[38;5;28;01mdef\u001b[39;00m \u001b[38;5;21mstart_stream\u001b[39m(\u001b[38;5;28mself\u001b[39m, StreamClass, samplerate, channels, dtype, callback,\n\u001b[0;32m   2580\u001b[0m                  blocking, \u001b[38;5;241m*\u001b[39m\u001b[38;5;241m*\u001b[39mkwargs):\n\u001b[0;32m   2581\u001b[0m     stop()  \u001b[38;5;66;03m# Stop previous playback/recording\u001b[39;00m\n\u001b[1;32m-> 2582\u001b[0m     \u001b[38;5;28mself\u001b[39m\u001b[38;5;241m.\u001b[39mstream \u001b[38;5;241m=\u001b[39m StreamClass(samplerate\u001b[38;5;241m=\u001b[39msamplerate,\n\u001b[0;32m   2583\u001b[0m                               channels\u001b[38;5;241m=\u001b[39mchannels,\n\u001b[0;32m   2584\u001b[0m                               dtype\u001b[38;5;241m=\u001b[39mdtype,\n\u001b[0;32m   2585\u001b[0m                               callback\u001b[38;5;241m=\u001b[39mcallback,\n\u001b[0;32m   2586\u001b[0m                               finished_callback\u001b[38;5;241m=\u001b[39m\u001b[38;5;28mself\u001b[39m\u001b[38;5;241m.\u001b[39mfinished_callback,\n\u001b[0;32m   2587\u001b[0m                               \u001b[38;5;241m*\u001b[39m\u001b[38;5;241m*\u001b[39mkwargs)\n\u001b[0;32m   2588\u001b[0m     \u001b[38;5;28mself\u001b[39m\u001b[38;5;241m.\u001b[39mstream\u001b[38;5;241m.\u001b[39mstart()\n\u001b[0;32m   2589\u001b[0m     \u001b[38;5;28;01mglobal\u001b[39;00m _last_callback\n",
      "File \u001b[1;32mc:\\Users\\gabeb\\OneDrive - UW-Madison\\Work\\audio_recorder\\venv\\lib\\site-packages\\sounddevice.py:1421\u001b[0m, in \u001b[0;36mInputStream.__init__\u001b[1;34m(self, samplerate, blocksize, device, channels, dtype, latency, extra_settings, callback, finished_callback, clip_off, dither_off, never_drop_input, prime_output_buffers_using_stream_callback)\u001b[0m\n\u001b[0;32m   1391\u001b[0m \u001b[38;5;28;01mdef\u001b[39;00m \u001b[38;5;21m__init__\u001b[39m(\u001b[38;5;28mself\u001b[39m, samplerate\u001b[38;5;241m=\u001b[39m\u001b[38;5;28;01mNone\u001b[39;00m, blocksize\u001b[38;5;241m=\u001b[39m\u001b[38;5;28;01mNone\u001b[39;00m,\n\u001b[0;32m   1392\u001b[0m              device\u001b[38;5;241m=\u001b[39m\u001b[38;5;28;01mNone\u001b[39;00m, channels\u001b[38;5;241m=\u001b[39m\u001b[38;5;28;01mNone\u001b[39;00m, dtype\u001b[38;5;241m=\u001b[39m\u001b[38;5;28;01mNone\u001b[39;00m, latency\u001b[38;5;241m=\u001b[39m\u001b[38;5;28;01mNone\u001b[39;00m,\n\u001b[0;32m   1393\u001b[0m              extra_settings\u001b[38;5;241m=\u001b[39m\u001b[38;5;28;01mNone\u001b[39;00m, callback\u001b[38;5;241m=\u001b[39m\u001b[38;5;28;01mNone\u001b[39;00m, finished_callback\u001b[38;5;241m=\u001b[39m\u001b[38;5;28;01mNone\u001b[39;00m,\n\u001b[0;32m   1394\u001b[0m              clip_off\u001b[38;5;241m=\u001b[39m\u001b[38;5;28;01mNone\u001b[39;00m, dither_off\u001b[38;5;241m=\u001b[39m\u001b[38;5;28;01mNone\u001b[39;00m, never_drop_input\u001b[38;5;241m=\u001b[39m\u001b[38;5;28;01mNone\u001b[39;00m,\n\u001b[0;32m   1395\u001b[0m              prime_output_buffers_using_stream_callback\u001b[38;5;241m=\u001b[39m\u001b[38;5;28;01mNone\u001b[39;00m):\n\u001b[0;32m   1396\u001b[0m \u001b[38;5;250m    \u001b[39m\u001b[38;5;124;03m\"\"\"PortAudio input stream (using NumPy).\u001b[39;00m\n\u001b[0;32m   1397\u001b[0m \n\u001b[0;32m   1398\u001b[0m \u001b[38;5;124;03m    This has the same methods and attributes as `Stream`, except\u001b[39;00m\n\u001b[1;32m   (...)\u001b[0m\n\u001b[0;32m   1419\u001b[0m \n\u001b[0;32m   1420\u001b[0m \u001b[38;5;124;03m    \"\"\"\u001b[39;00m\n\u001b[1;32m-> 1421\u001b[0m     _StreamBase\u001b[38;5;241m.\u001b[39m\u001b[38;5;21m__init__\u001b[39m(\u001b[38;5;28mself\u001b[39m, kind\u001b[38;5;241m=\u001b[39m\u001b[38;5;124m'\u001b[39m\u001b[38;5;124minput\u001b[39m\u001b[38;5;124m'\u001b[39m, wrap_callback\u001b[38;5;241m=\u001b[39m\u001b[38;5;124m'\u001b[39m\u001b[38;5;124marray\u001b[39m\u001b[38;5;124m'\u001b[39m,\n\u001b[0;32m   1422\u001b[0m                          \u001b[38;5;241m*\u001b[39m\u001b[38;5;241m*\u001b[39m_remove_self(\u001b[38;5;28mlocals\u001b[39m()))\n",
      "File \u001b[1;32mc:\\Users\\gabeb\\OneDrive - UW-Madison\\Work\\audio_recorder\\venv\\lib\\site-packages\\sounddevice.py:898\u001b[0m, in \u001b[0;36m_StreamBase.__init__\u001b[1;34m(self, kind, samplerate, blocksize, device, channels, dtype, latency, extra_settings, callback, finished_callback, clip_off, dither_off, never_drop_input, prime_output_buffers_using_stream_callback, userdata, wrap_callback)\u001b[0m\n\u001b[0;32m    896\u001b[0m     userdata \u001b[38;5;241m=\u001b[39m _ffi\u001b[38;5;241m.\u001b[39mNULL\n\u001b[0;32m    897\u001b[0m \u001b[38;5;28mself\u001b[39m\u001b[38;5;241m.\u001b[39m_ptr \u001b[38;5;241m=\u001b[39m _ffi\u001b[38;5;241m.\u001b[39mnew(\u001b[38;5;124m'\u001b[39m\u001b[38;5;124mPaStream**\u001b[39m\u001b[38;5;124m'\u001b[39m)\n\u001b[1;32m--> 898\u001b[0m \u001b[43m_check\u001b[49m\u001b[43m(\u001b[49m\u001b[43m_lib\u001b[49m\u001b[38;5;241;43m.\u001b[39;49m\u001b[43mPa_OpenStream\u001b[49m\u001b[43m(\u001b[49m\u001b[38;5;28;43mself\u001b[39;49m\u001b[38;5;241;43m.\u001b[39;49m\u001b[43m_ptr\u001b[49m\u001b[43m,\u001b[49m\u001b[43m \u001b[49m\u001b[43miparameters\u001b[49m\u001b[43m,\u001b[49m\u001b[43m \u001b[49m\u001b[43moparameters\u001b[49m\u001b[43m,\u001b[49m\n\u001b[0;32m    899\u001b[0m \u001b[43m                          \u001b[49m\u001b[43msamplerate\u001b[49m\u001b[43m,\u001b[49m\u001b[43m \u001b[49m\u001b[43mblocksize\u001b[49m\u001b[43m,\u001b[49m\u001b[43m \u001b[49m\u001b[43mstream_flags\u001b[49m\u001b[43m,\u001b[49m\n\u001b[0;32m    900\u001b[0m \u001b[43m                          \u001b[49m\u001b[43mcallback_ptr\u001b[49m\u001b[43m,\u001b[49m\u001b[43m \u001b[49m\u001b[43muserdata\u001b[49m\u001b[43m)\u001b[49m\u001b[43m,\u001b[49m\n\u001b[0;32m    901\u001b[0m \u001b[43m       \u001b[49m\u001b[38;5;124;43mf\u001b[39;49m\u001b[38;5;124;43m'\u001b[39;49m\u001b[38;5;124;43mError opening \u001b[39;49m\u001b[38;5;132;43;01m{\u001b[39;49;00m\u001b[38;5;28;43mself\u001b[39;49m\u001b[38;5;241;43m.\u001b[39;49m\u001b[38;5;18;43m__class__\u001b[39;49m\u001b[38;5;241;43m.\u001b[39;49m\u001b[38;5;18;43m__name__\u001b[39;49m\u001b[38;5;132;43;01m}\u001b[39;49;00m\u001b[38;5;124;43m'\u001b[39;49m\u001b[43m)\u001b[49m\n\u001b[0;32m    903\u001b[0m \u001b[38;5;66;03m# dereference PaStream** --> PaStream*\u001b[39;00m\n\u001b[0;32m    904\u001b[0m \u001b[38;5;28mself\u001b[39m\u001b[38;5;241m.\u001b[39m_ptr \u001b[38;5;241m=\u001b[39m \u001b[38;5;28mself\u001b[39m\u001b[38;5;241m.\u001b[39m_ptr[\u001b[38;5;241m0\u001b[39m]\n",
      "File \u001b[1;32mc:\\Users\\gabeb\\OneDrive - UW-Madison\\Work\\audio_recorder\\venv\\lib\\site-packages\\sounddevice.py:2747\u001b[0m, in \u001b[0;36m_check\u001b[1;34m(err, msg)\u001b[0m\n\u001b[0;32m   2744\u001b[0m     hosterror_info \u001b[38;5;241m=\u001b[39m host_api, info\u001b[38;5;241m.\u001b[39merrorCode, hosterror_text\n\u001b[0;32m   2745\u001b[0m     \u001b[38;5;28;01mraise\u001b[39;00m PortAudioError(errormsg, err, hosterror_info)\n\u001b[1;32m-> 2747\u001b[0m \u001b[38;5;28;01mraise\u001b[39;00m PortAudioError(errormsg, err)\n",
      "\u001b[1;31mPortAudioError\u001b[0m: Error opening InputStream: Invalid number of channels [PaErrorCode -9998]"
     ]
    }
   ],
   "source": [
    "# output\n",
    "import numpy as np\n",
    "from scipy.signal import chirp\n",
    "import subprocess\n",
    "import sounddevice as sd\n",
    "import soundfile as sf\n",
    "import os\n",
    "\n",
    "# input\n",
    "import sounddevice as sd\n",
    "from scipy.io.wavfile import write\n",
    "\n",
    "def swept_sin(save, fs_org, i):\n",
    "    T = 3\n",
    "    # fs_org = 8000\n",
    "    t = np.arange(0, int(T * fs_org)) / fs_org\n",
    "    f0 = 8000\n",
    "    f1 = 55\n",
    "\n",
    "    w = chirp(t, f0=f0, f1=f1, t1=T, method='linear')\n",
    "    print(w)\n",
    "    file_name = 'chirp_{}_{}_{}s_{}.wav'.format(f1, f0, T, fs_org)\n",
    "    # Save the chirp signal to a WAV file\n",
    "    if save:\n",
    "        sf.write(file_name, w, fs_org)\n",
    "        print(f\"File saved as {file_name}\")\n",
    "        \n",
    "        # Transfer the file to the Android device\n",
    "        adb_push_command = f\"adb push {file_name} /sdcard/\"\n",
    "        print(f\"Transferring {file_name} to Android device...\")\n",
    "        os.system(adb_push_command)\n",
    "        \n",
    "        # Play the WAV file on the Android device\n",
    "        adb_play_command = f\"adb shell am start -a android.intent.action.VIEW -d file:///sdcard/{file_name} -t audio/wav\"\n",
    "        print(f\"Playing {file_name} on Android device...\")\n",
    "        os.system(adb_play_command)\n",
    "        # seconds = 3  # Duration of recording\n",
    "        myrecording = sd.rec(int(T * fs_org), samplerate=fs_org, channels=3, device=i)\n",
    "        sd.wait()  # Wait until recording is finished\n",
    "        filename = f'recording{i}.wav'\n",
    "        write(filename, fs_rec, myrecording)  # Save as WAV file\n",
    "        print(f\"Recording saved to {filename}\")\n",
    "\n",
    "\n",
    "fs_org = 8000\n",
    "swept_sin(save=True, fs_org=fs_org, i=1)"
   ]
  },
  {
   "cell_type": "markdown",
   "metadata": {},
   "source": [
    "# Plot testing"
   ]
  },
  {
   "cell_type": "code",
   "execution_count": 8,
   "metadata": {},
   "outputs": [
    {
     "name": "stderr",
     "output_type": "stream",
     "text": [
      "C:\\Users\\gabeb\\AppData\\Local\\Temp\\ipykernel_16756\\2347917332.py:7: RuntimeWarning: divide by zero encountered in divide\n",
      "  T = 1/fs   # Sampling period\n"
     ]
    },
    {
     "ename": "ValueError",
     "evalue": "operands could not be broadcast together with shapes (24000,) (144000,) ",
     "output_type": "error",
     "traceback": [
      "\u001b[1;31m---------------------------------------------------------------------------\u001b[0m",
      "\u001b[1;31mValueError\u001b[0m                                Traceback (most recent call last)",
      "Cell \u001b[1;32mIn[8], line 9\u001b[0m\n\u001b[0;32m      7\u001b[0m T \u001b[38;5;241m=\u001b[39m \u001b[38;5;241m1\u001b[39m\u001b[38;5;241m/\u001b[39mfs   \u001b[38;5;66;03m# Sampling period\u001b[39;00m\n\u001b[0;32m      8\u001b[0m L \u001b[38;5;241m=\u001b[39m \u001b[38;5;241m24000\u001b[39m   \u001b[38;5;66;03m# Length of signal\u001b[39;00m\n\u001b[1;32m----> 9\u001b[0m t \u001b[38;5;241m=\u001b[39m \u001b[43mnp\u001b[49m\u001b[38;5;241;43m.\u001b[39;49m\u001b[43marange\u001b[49m\u001b[43m(\u001b[49m\u001b[38;5;241;43m0\u001b[39;49m\u001b[43m,\u001b[49m\u001b[43m \u001b[49m\u001b[43mL\u001b[49m\u001b[43m)\u001b[49m\u001b[43m \u001b[49m\u001b[38;5;241;43m*\u001b[39;49m\u001b[43m \u001b[49m\u001b[43mT\u001b[49m  \u001b[38;5;66;03m# Time vector# Generate a sample waveform (sine wave for example)\u001b[39;00m\n\u001b[0;32m     10\u001b[0m \u001b[38;5;66;03m# f = 50  # Frequency of sine wave\u001b[39;00m\n\u001b[0;32m     11\u001b[0m \u001b[38;5;66;03m# waveform = 0.7 * np.sin(2 * np.pi * f * t)# Compute FFT\u001b[39;00m\n\u001b[0;32m     12\u001b[0m fft_values \u001b[38;5;241m=\u001b[39m np\u001b[38;5;241m.\u001b[39mfft\u001b[38;5;241m.\u001b[39mfft(waveform)\n",
      "\u001b[1;31mValueError\u001b[0m: operands could not be broadcast together with shapes (24000,) (144000,) "
     ]
    }
   ],
   "source": [
    "import numpy as np\n",
    "import matplotlib.pyplot as plt# Parameters\n",
    "filename = 'chirp_55_8000_3s_48000.wav'\n",
    "fs, waveform = sf.read(filename)\n",
    "\n",
    "# fs = 1000  # Sampling frequency\n",
    "T = 1/fs   # Sampling period\n",
    "L = 24000   # Length of signal\n",
    "t = np.arange(0, L) * T  # Time vector# Generate a sample waveform (sine wave for example)\n",
    "# f = 50  # Frequency of sine wave\n",
    "# waveform = 0.7 * np.sin(2 * np.pi * f * t)# Compute FFT\n",
    "fft_values = np.fft.fft(waveform)\n",
    "frequencies = np.fft.fftfreq(L, T) # Plot original waveform\n",
    "plt.figure(figsize=(12, 6))\n",
    "plt.subplot(2, 1, 1)  # 2 rows, 1 column, first subplot\n",
    "plt.plot(t[0:100], waveform[0:100])  # Plot the first 100 points\n",
    "plt.title('Original Waveform')\n",
    "plt.xlabel('Time (s)')\n",
    "plt.ylabel('Amplitude')# Plot FFT\n",
    "plt.subplot(2, 1, 2)  # 2 rows, 1 column, second subplot\n",
    "plt.plot(frequencies[0:L//2], np.abs(fft_values[0:L//2]))  # Plot half of the frequencies\n",
    "plt.title('FFT of Waveform')\n",
    "plt.xlabel('Frequency (Hz)')\n",
    "plt.ylabel('Magnitude')\n",
    "plt.tight_layout()\n",
    "plt.show()"
   ]
  },
  {
   "cell_type": "code",
   "execution_count": 14,
   "metadata": {},
   "outputs": [],
   "source": [
    "import numpy as np\n",
    "import matplotlib.pyplot as plt\n",
    "from scipy.io import wavfile\n",
    "from numpy.fft import rfft, rfftfreq\n",
    "import torch\n",
    "import torch.fft\n",
    "# Load the WAV file\n",
    "filename = 'chirp_55_8000_3s_8000.wav'\n",
    "fs, data = wavfile.read(filename)\n",
    "\n",
    "# If stereo, average the channels or just pick one\n",
    "if data.ndim > 1:\n",
    "    data = data[0,:]\n",
    "\n",
    "# Perform the FFT\n",
    "# w_fft = np.abs(rfft(data))\n",
    "# freq = rfftfreq(len(data), d=1/fs)\n",
    "plt.plot(np.abs(fft.rfft(data, norm=\"ortho\")))\n",
    "\n",
    "# plt.figure(figsize=(10, 6))\n",
    "# plt.plot(freq, w_fft, alpha=0.8)\n",
    "# plt.xlabel('Frequency (Hz)')\n",
    "# plt.ylabel('Amplitude')\n",
    "# plt.title('Frequency Spectrum')\n",
    "# plt.grid(True)\n",
    "# plt.show()\n",
    "\n",
    "# plt.plot(data)\n",
    "\n",
    "\n"
   ]
  },
  {
   "cell_type": "code",
   "execution_count": 29,
   "metadata": {},
   "outputs": [],
   "source": [
    "from scipy import fft\n",
    "\n",
    "\n",
    "def get_transfer_function_scipy(sig_org, sig_out, sig_in, fs, fs_org, T, save_fig=False, title=''):\n",
    "    \"\"\"\n",
    "    :param org: original signal\n",
    "    :param sig_in: signal recorded Inside the box\n",
    "    :param sig_out: signal recorded Outside the box\n",
    "    :param fs: sampling rate\n",
    "    :return: TF: transfer function = FFT(sig2)/FFT(sig1)\n",
    "    \"\"\"\n",
    "    l1 = 15\n",
    "    l2 = 10\n",
    "    d1 = 1\n",
    "    d2 = 2\n",
    "    ratio = (d2 / d1) ** 2\n",
    "    x = np.arange(1, 7500, 1)\n",
    "    out = -1 / np.tan(2 * math.pi * x * l1 / 34350) - ratio * 1 / np.tan(2 * math.pi * x * l2 / 34350)\n",
    "    zero_crossings = np.where(np.diff(np.sign(out)).astype(bool) & (out[:-1] < 0.5) & (out[:-1] > -0.5))[0]\n",
    "\n",
    "    num_fft = len(sig_in)\n",
    "    sig_org_fft = np.abs(fft.rfft(sig_org, norm=\"ortho\", n=num_fft))\n",
    "    sig_in_fft = np.abs(fft.rfft(sig_in, norm=\"ortho\"))\n",
    "    sig_out_fft = np.abs(fft.rfft(sig_out, norm=\"ortho\"))\n",
    "    freq_org = fft.rfftfreq(num_fft, d=1 / fs_org)\n",
    "    freq = fft.rfftfreq(num_fft, d=1 / fs)\n",
    "\n",
    "    fig, ax = plt.subplots(3, 1, sharex=True)\n",
    "    plt.setp(ax, xticks=np.arange(0, fs / 2, 250))\n",
    "    plt.xticks(rotation=45)\n",
    "    plt.xlim([-1, 4000])\n",
    "    ax[0].plot(freq_org, sig_org_fft, color='black', alpha=0.8, label='Original')\n",
    "    ax[0].legend(loc='upper right')\n",
    "    ax[1].plot(freq, sig_out_fft, color='blue', alpha=0.8, label='out_box')\n",
    "    ax[1].legend(loc='upper right')\n",
    "    ax[2].plot(freq, sig_in_fft, color='red', alpha=0.8, label='In_box')\n",
    "    ax[2].legend(loc='upper right')\n",
    "    for j in zero_crossings:\n",
    "        ax[2].axvline(x=j, c='b', ls=\"--\", alpha=0.3)\n",
    "    plt.tight_layout()\n",
    "    if save_fig:\n",
    "        fig_save_dir = title.replace(\"out\", \"figures\").replace('.wav', '_FFT.png')\n",
    "        pathlib.Path(fig_save_dir).parent.mkdir(parents=True, exist_ok=True)\n",
    "        plt.savefig(fig_save_dir)\n",
    "    plt.show()\n",
    "\n",
    "def load_play_save_dataset(dataset, save_dir, fs_rec=16000, save=True):\n",
    "    if '16' in dataset:\n",
    "        fs_org = 16000\n",
    "    else:\n",
    "        fs_org = 8000\n",
    "    for i, wav_file_path in enumerate(glob.glob(\"../Dataset/{}/*/*.wav\".format(dataset))):\n",
    "        try:\n",
    "            if os.path.exists(wav_file_path.replace(dataset, save_dir + \"/in\")):\n",
    "                print(wav_file_path, 'exists already')\n",
    "                continue\n",
    "            print('Original Dataset fs =', fs_org)\n",
    "            print('Now playing file {}: '.format(i), os.path.basename(wav_file_path))\n",
    "            ## Play using android:\n",
    "            org, rec_in, rec_out, T = play_android(wav_file_path, fs_rec)\n",
    "            ## Play using PC connected speakers:\n",
    "            # org, rec_in, rec_out, fs = play_record_2mic(wav_file_path)\n",
    "            outbox_path = wav_file_path.replace(dataset, save_dir + \"/out\")\n",
    "            inbox_path = wav_file_path.replace(dataset, save_dir + \"/in\")\n",
    "            inbox_path_normalized = wav_file_path.replace(dataset, save_dir + \"/in_normalized\")\n",
    "            if save:\n",
    "                pathlib.Path(outbox_path).parent.mkdir(parents=True, exist_ok=True)\n",
    "                pathlib.Path(inbox_path).parent.mkdir(parents=True, exist_ok=True)\n",
    "                pathlib.Path(inbox_path_normalized).parent.mkdir(parents=True, exist_ok=True)\n",
    "                sf.write(inbox_path, rec_in, fs_rec)\n",
    "                rec_in_norm = rec_in / max(abs(rec_in)) * max(abs(org))\n",
    "                rec_out_norm = rec_out / max(abs(rec_out)) * max(abs(org))\n",
    "                sf.write(inbox_path_normalized, rec_in_norm, fs_rec)\n",
    "                sf.write(outbox_path, rec_out_norm, fs_rec)\n",
    "                # sf.write(outbox_path, rec_out, fs_rec)\n",
    "\n",
    "            get_transfer_function_scipy(org, rec_out_norm, rec_in_norm, fs_rec, fs_org, T, save, title=outbox_path)\n",
    "        except KeyboardInterrupt:\n",
    "            print('\\nPausing...  (Hit ENTER to continue, type quit to exit.)')\n",
    "            try:\n",
    "                response = input()\n",
    "                if response == 'quit':\n",
    "                    break\n",
    "                print('Resuming...')\n",
    "            except KeyboardInterrupt:\n",
    "                print('Resuming...')\n",
    "                continue\n",
    "\n"
   ]
  },
  {
   "cell_type": "markdown",
   "metadata": {},
   "source": [
    "# List recording devices"
   ]
  },
  {
   "cell_type": "code",
   "execution_count": 24,
   "metadata": {},
   "outputs": [
    {
     "name": "stdout",
     "output_type": "stream",
     "text": [
      "Available audio input devices:\n",
      "0: Microsoft Sound Mapper - Input\n",
      "1: Microphone (Realtek(R) Audio)\n",
      "2: Microphone Array (Realtek(R) Au\n",
      "5: Primary Sound Capture Driver\n",
      "6: Microphone (Realtek(R) Audio)\n",
      "7: Microphone Array (Realtek(R) Audio)\n",
      "11: Microphone Array (Realtek(R) Audio)\n",
      "12: Microphone (Realtek(R) Audio)\n",
      "14: Microphone Array (Realtek HD Audio Mic Array input)\n",
      "15: Stereo Mix (Realtek HD Audio Stereo input)\n",
      "16: Microphone (Realtek HD Audio Mic input)\n",
      "18: Headset (@System32\\drivers\\bthhfenum.sys,#2;%1 Hands-Free%0\n",
      ";(Jabra Elite 7 Active))\n",
      "21: Headset (@System32\\drivers\\bthhfenum.sys,#2;%1 Hands-Free%0\n",
      ";(Digital Pro 4))\n"
     ]
    }
   ],
   "source": [
    "import pyaudio\n",
    "\n",
    "p = pyaudio.PyAudio()\n",
    "\n",
    "print(\"Available audio input devices:\")\n",
    "\n",
    "for i in range(p.get_device_count()):\n",
    "    dev = p.get_device_info_by_index(i)\n",
    "    if dev['maxInputChannels'] > 0:\n",
    "        print(f\"{i}: {dev['name']}\")\n",
    "\n",
    "p.terminate()"
   ]
  },
  {
   "cell_type": "code",
   "execution_count": 25,
   "metadata": {},
   "outputs": [
    {
     "name": "stdout",
     "output_type": "stream",
     "text": [
      "Testing device index: 1\n"
     ]
    }
   ],
   "source": [
    "import sounddevice as sd\n",
    "from scipy.io.wavfile import write\n",
    "\n",
    "def test_recording(device_index):\n",
    "    fs = 8000  # Sample rate\n",
    "    seconds = 3  # Duration of recording\n",
    "    print(f\"Testing device index: {device_index}\")\n",
    "    myrecording = sd.rec(int(seconds * fs), samplerate=fs, channels=2, device=device_index)\n",
    "    sd.wait()  # Wait until recording is finished\n",
    "    filename = f'test_output_device_{device_index}.wav'\n",
    "    write(filename, fs, myrecording)  # Save as WAV file\n",
    "    print(f\"Recording saved to {filename}\")\n",
    "\n",
    "# Replace X with the device index you want to test\n",
    "test_device_index = 1  # for example, to test the device at index 1\n",
    "test_recording(test_device_index)\n"
   ]
  }
 ],
 "metadata": {
  "kernelspec": {
   "display_name": "venv",
   "language": "python",
   "name": "python3"
  },
  "language_info": {
   "codemirror_mode": {
    "name": "ipython",
    "version": 3
   },
   "file_extension": ".py",
   "mimetype": "text/x-python",
   "name": "python",
   "nbconvert_exporter": "python",
   "pygments_lexer": "ipython3",
   "version": "3.10.11"
  }
 },
 "nbformat": 4,
 "nbformat_minor": 2
}
